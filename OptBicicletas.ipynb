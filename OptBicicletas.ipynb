{
 "cells": [
  {
   "cell_type": "code",
   "execution_count": 12,
   "id": "19c998c2",
   "metadata": {},
   "outputs": [],
   "source": [
    "import gurobipy as gp\n",
    "from gurobipy import GRB"
   ]
  },
  {
   "cell_type": "code",
   "execution_count": 13,
   "id": "697171a9",
   "metadata": {},
   "outputs": [],
   "source": [
    "# Crear un nuevo modelo\n",
    "m = gp.Model(\"bicicletas\")"
   ]
  },
  {
   "cell_type": "code",
   "execution_count": 14,
   "id": "79e6c78d",
   "metadata": {},
   "outputs": [],
   "source": [
    "# Crear variables\n",
    "x1 = m.addVar(vtype=GRB.CONTINUOUS, name=\"x1\")\n",
    "x2 = m.addVar(vtype=GRB.CONTINUOUS, name=\"x2\")\n",
    "x3 = m.addVar(vtype=GRB.CONTINUOUS, name=\"x3\")\n",
    "x4 = m.addVar(vtype=GRB.CONTINUOUS, name=\"x4\")\n",
    "x5 = m.addVar(vtype=GRB.CONTINUOUS, name=\"x5\")"
   ]
  },
  {
   "cell_type": "code",
   "execution_count": 15,
   "id": "c2ce9a3c",
   "metadata": {},
   "outputs": [],
   "source": [
    "# Definir la función objetivo\n",
    "m.setObjective(180*x1 + 220*x2 + 190*x3 + 210*x4 + 150*x5, GRB.MAXIMIZE)"
   ]
  },
  {
   "cell_type": "code",
   "execution_count": 16,
   "id": "acd20846",
   "metadata": {},
   "outputs": [
    {
     "data": {
      "text/plain": [
       "<gurobi.Constr *Awaiting Model Update*>"
      ]
     },
     "execution_count": 16,
     "metadata": {},
     "output_type": "execute_result"
    }
   ],
   "source": [
    "# Agregar restricciones\n",
    "m.addConstr(3*x1 + 3*x2 + 2*x3 + 2*x4 + 1*x5 <= 240, \"horas de ensamblaje\")\n",
    "m.addConstr(x1 + x2 + x3 + x4 + 1.5*x5 <= 100, \"horas de pintura\")\n",
    "m.addConstr(120*x1 + 120*x2 + 100*x3 + 100*x4 + 80*x5 <= 10000, \"costo de producción\")\n",
    "m.addConstr(2*x3 + 2*x4 <= 150, \"llantas delgadas\")\n",
    "m.addConstr(2*x1 + 2*x2 <= 80, \"llantas de alto agarre\")\n",
    "m.addConstr(2*x1 + 2*x2 + 2*x3 + 2*x4 + 2*x5 <= 300, \"llantas totales\")\n",
    "m.addConstr(x1 + x3 <= 120, \"marcos de acero\")\n",
    "m.addConstr(x2 + x4 <= 60, \"marcos de aluminio\")\n",
    "m.addConstr(x1 + x2 + x3 + x4 + x5 <= 180, \"marcos totales\")"
   ]
  },
  {
   "cell_type": "code",
   "execution_count": 17,
   "id": "da06ef9a",
   "metadata": {},
   "outputs": [
    {
     "name": "stdout",
     "output_type": "stream",
     "text": [
      "Gurobi Optimizer version 11.0.3 build v11.0.3rc0 (win64 - Windows 11.0 (22631.2))\n",
      "\n",
      "CPU model: AMD Ryzen 7 3700U with Radeon Vega Mobile Gfx, instruction set [SSE2|AVX|AVX2]\n",
      "Thread count: 4 physical cores, 8 logical processors, using up to 8 threads\n",
      "\n",
      "Optimize a model with 9 rows, 5 columns and 33 nonzeros\n",
      "Model fingerprint: 0x05761299\n",
      "Coefficient statistics:\n",
      "  Matrix range     [1e+00, 1e+02]\n",
      "  Objective range  [2e+02, 2e+02]\n",
      "  Bounds range     [0e+00, 0e+00]\n",
      "  RHS range        [6e+01, 1e+04]\n",
      "Presolve removed 2 rows and 0 columns\n",
      "Presolve time: 0.01s\n",
      "Presolved: 7 rows, 5 columns, 26 nonzeros\n",
      "\n",
      "Iteration    Objective       Primal Inf.    Dual Inf.      Time\n",
      "       0    3.6000000e+04   1.860563e+03   0.000000e+00      0s\n",
      "       5    1.9700000e+04   0.000000e+00   0.000000e+00      0s\n",
      "\n",
      "Solved in 5 iterations and 0.04 seconds (0.00 work units)\n",
      "Optimal objective  1.970000000e+04\n"
     ]
    }
   ],
   "source": [
    "# Optimizar el modelo\n",
    "m.optimize()"
   ]
  },
  {
   "cell_type": "code",
   "execution_count": 7,
   "id": "04316766",
   "metadata": {},
   "outputs": [
    {
     "name": "stdout",
     "output_type": "stream",
     "text": [
      "Resultados: \n"
     ]
    }
   ],
   "source": [
    "# Mostrar resultados\n",
    "print(\"Resultados: \")\n",
    "for v in m.getVars():\n",
    "    print(f\"{v.varName}: {v.x}\")"
   ]
  },
  {
   "cell_type": "code",
   "execution_count": 8,
   "id": "8f33af91",
   "metadata": {},
   "outputs": [
    {
     "name": "stdout",
     "output_type": "stream",
     "text": [
      "Valores dual\n"
     ]
    },
    {
     "ename": "AttributeError",
     "evalue": "'gurobipy.Model' object has no attribute 'constrs'",
     "output_type": "error",
     "traceback": [
      "\u001b[1;31m---------------------------------------------------------------------------\u001b[0m",
      "\u001b[1;31mAttributeError\u001b[0m                            Traceback (most recent call last)",
      "Cell \u001b[1;32mIn[8], line 3\u001b[0m\n\u001b[0;32m      1\u001b[0m \u001b[38;5;66;03m# Mostrar valores dual\u001b[39;00m\n\u001b[0;32m      2\u001b[0m \u001b[38;5;28mprint\u001b[39m(\u001b[38;5;124m\"\u001b[39m\u001b[38;5;124mValores dual\u001b[39m\u001b[38;5;124m\"\u001b[39m)\n\u001b[1;32m----> 3\u001b[0m \u001b[38;5;28;01mfor\u001b[39;00m constr \u001b[38;5;129;01min\u001b[39;00m \u001b[43mm\u001b[49m\u001b[38;5;241;43m.\u001b[39;49m\u001b[43mconstrs\u001b[49m():\n\u001b[0;32m      4\u001b[0m     \u001b[38;5;28mprint\u001b[39m(\u001b[38;5;124mf\u001b[39m\u001b[38;5;124m\"\u001b[39m\u001b[38;5;124m(constr.constrName): \u001b[39m\u001b[38;5;132;01m{\u001b[39;00mconstr\u001b[38;5;241m.\u001b[39mPi\u001b[38;5;132;01m}\u001b[39;00m\u001b[38;5;124m\"\u001b[39m)\n",
      "File \u001b[1;32msrc\\\\gurobipy\\\\model.pxi:368\u001b[0m, in \u001b[0;36mgurobipy.Model.__getattr__\u001b[1;34m()\u001b[0m\n",
      "File \u001b[1;32msrc\\\\gurobipy\\\\model.pxi:1880\u001b[0m, in \u001b[0;36mgurobipy.Model.getAttr\u001b[1;34m()\u001b[0m\n",
      "File \u001b[1;32msrc\\\\gurobipy\\\\attrutil.pxi:26\u001b[0m, in \u001b[0;36mgurobipy._getattrinfo\u001b[1;34m()\u001b[0m\n",
      "\u001b[1;31mAttributeError\u001b[0m: 'gurobipy.Model' object has no attribute 'constrs'"
     ]
    }
   ],
   "source": [
    "# Mostrar valores dual\n",
    "print(\"Valores dual\")\n",
    "for constr in m.constrs():\n",
    "    print(f\"(constr.constrName): {constr.Pi}\")"
   ]
  },
  {
   "cell_type": "code",
   "execution_count": 7,
   "id": "7c648526",
   "metadata": {},
   "outputs": [
    {
     "name": "stdout",
     "output_type": "stream",
     "text": [
      "\n",
      "    Variable     SAObjLow \n",
      "-------------------------\n",
      "          x1         -inf \n",
      "          x2          200 \n",
      "          x3          170 \n",
      "          x4          190 \n",
      "          x5      133.333 \n",
      "\n",
      "    Variable      SAObjUp \n",
      "-------------------------\n",
      "          x1          200 \n",
      "          x2          245 \n",
      "          x3          210 \n",
      "          x4          230 \n",
      "          x5          250 \n",
      "\n",
      "  Constraint      SARHSUp \n",
      "-------------------------\n",
      "horas de ensamblaje          inf \n",
      "horas de pintura      121.875 \n",
      "costo de producción        10500 \n",
      "llantas delgadas          200 \n",
      "llantas de alto agarre          inf \n",
      "llantas totales          inf \n",
      "marcos de acero          inf \n",
      "marcos de aluminio         92.5 \n",
      "marcos totales          inf \n",
      "\n",
      "  Constraint     SARHSLow \n",
      "-------------------------\n",
      "horas de ensamblaje        207.5 \n",
      "horas de pintura      95.8333 \n",
      "costo de producción      8833.33 \n",
      "llantas delgadas      85.7143 \n",
      "llantas de alto agarre           35 \n",
      "llantas totales          195 \n",
      "marcos de acero         32.5 \n",
      "marcos de aluminio         17.5 \n",
      "marcos totales         97.5 \n"
     ]
    }
   ],
   "source": [
    "# Imprimir rangos de sensibilidad\n",
    "m.printAttr('SAObjLow')  # Rango inferior coeficiente objetivo\n",
    "m.printAttr('SAObjUp')   # Rango superior coeficiente objetivo\n",
    "m.printAttr('SARHSLow')  # Rango inferior lado derecho restricción\n",
    "m.printAttr('SARHSUp')   # Rango superior lado derecho restricción"
   ]
  },
  {
   "cell_type": "code",
   "execution_count": 21,
   "id": "ea5f6c09",
   "metadata": {},
   "outputs": [],
   "source": [
    "# Agregar una variable al modelo\n",
    "x6 = m.addVar(name=\"x6\", lb=0)\n",
    "m.setObjective(180*x1 + 220*x2 + 190*x3 + 210*x4 + 150*x5 + 230*x6, GRB.MAXIMIZE)"
   ]
  },
  {
   "cell_type": "code",
   "execution_count": 22,
   "id": "e6565b8f",
   "metadata": {},
   "outputs": [
    {
     "data": {
      "text/plain": [
       "<gurobi.Constr *Awaiting Model Update*>"
      ]
     },
     "execution_count": 22,
     "metadata": {},
     "output_type": "execute_result"
    }
   ],
   "source": [
    "# modificar restricciones para incluir x6\n",
    "m.addConstr(3*x1 + 3*x2 + 2*x3 + 2*x4 + 1*x5 + 4*x6 <= 240, \"horas de ensamblaje\")\n",
    "m.addConstr(x1 + x2 + x3 + x4 + 1.5*x5 + 1.5*x6 <= 100, \"horas de pintura\")\n",
    "m.addConstr(120*x1 + 120*x2 + 100*x3 + 100*x4 + 80*x5 + 150*x6 <= 10000, \"costo de producción\")\n",
    "m.addConstr(2*x3 + 2*x4 <= 150, \"llantas delgadas\")\n",
    "m.addConstr(2*x1 + 2*x2 <= 80, \"llantas de alto agarre\")\n",
    "m.addConstr(2*x1 + 2*x2 + 2*x3 + 2*x4 + 2*x5 + 2*x6 <= 300, \"llantas totales\")\n",
    "m.addConstr(x1 + x3 <= 120, \"marcos de acero\")\n",
    "m.addConstr(x2 + x4 <= 60, \"marcos de aluminio\")\n",
    "m.addConstr(x1 + x2 + x3 + x4 + x5 + x6 <= 180, \"marcos totales\")"
   ]
  },
  {
   "cell_type": "code",
   "execution_count": 23,
   "id": "f80e6af8",
   "metadata": {},
   "outputs": [
    {
     "name": "stdout",
     "output_type": "stream",
     "text": [
      "Gurobi Optimizer version 11.0.3 build v11.0.3rc0 (win64 - Windows 11.0 (22631.2))\n",
      "\n",
      "CPU model: AMD Ryzen 7 3700U with Radeon Vega Mobile Gfx, instruction set [SSE2|AVX|AVX2]\n",
      "Thread count: 4 physical cores, 8 logical processors, using up to 8 threads\n",
      "\n",
      "Optimize a model with 18 rows, 9 columns and 71 nonzeros\n",
      "Coefficient statistics:\n",
      "  Matrix range     [1e+00, 2e+02]\n",
      "  Objective range  [2e+02, 2e+02]\n",
      "  Bounds range     [0e+00, 0e+00]\n",
      "  RHS range        [6e+01, 1e+04]\n",
      "LP warm-start: use basis\n",
      "\n",
      "Iteration    Objective       Primal Inf.    Dual Inf.      Time\n",
      "       0    1.4375000e+31   4.335938e+30   1.437500e+01      0s\n",
      "       6    1.9700000e+04   0.000000e+00   0.000000e+00      0s\n",
      "\n",
      "Solved in 6 iterations and 0.02 seconds (0.00 work units)\n",
      "Optimal objective  1.970000000e+04\n"
     ]
    }
   ],
   "source": [
    "m.optimize()"
   ]
  },
  {
   "cell_type": "code",
   "execution_count": null,
   "id": "fd92c9b2",
   "metadata": {},
   "outputs": [],
   "source": []
  }
 ],
 "metadata": {
  "kernelspec": {
   "display_name": "Python 3",
   "language": "python",
   "name": "python3"
  },
  "language_info": {
   "codemirror_mode": {
    "name": "ipython",
    "version": 3
   },
   "file_extension": ".py",
   "mimetype": "text/x-python",
   "name": "python",
   "nbconvert_exporter": "python",
   "pygments_lexer": "ipython3",
   "version": "3.12.2"
  }
 },
 "nbformat": 4,
 "nbformat_minor": 5
}
