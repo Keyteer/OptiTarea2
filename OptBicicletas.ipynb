{
 "cells": [
  {
   "cell_type": "code",
   "execution_count": 1,
   "id": "19c998c2",
   "metadata": {},
   "outputs": [],
   "source": [
    "import gurobipy as gp\n",
    "from gurobipy import GRB"
   ]
  },
  {
   "cell_type": "code",
   "execution_count": 2,
   "id": "697171a9",
   "metadata": {},
   "outputs": [
    {
     "name": "stdout",
     "output_type": "stream",
     "text": [
      "Set parameter Username\n",
      "Academic license - for non-commercial use only - expires 2025-09-23\n"
     ]
    }
   ],
   "source": [
    "# Crear un nuevo modelo\n",
    "m = gp.Model(\"bicicletas\")"
   ]
  },
  {
   "cell_type": "code",
   "execution_count": 3,
   "id": "79e6c78d",
   "metadata": {},
   "outputs": [],
   "source": [
    "# Crear variables\n",
    "x1 = m.addVar(vtype=GRB.CONTINUOUS, name=\"x1\")\n",
    "x2 = m.addVar(vtype=GRB.CONTINUOUS, name=\"x2\")\n",
    "x3 = m.addVar(vtype=GRB.CONTINUOUS, name=\"x3\")\n",
    "x4 = m.addVar(vtype=GRB.CONTINUOUS, name=\"x4\")\n",
    "x5 = m.addVar(vtype=GRB.CONTINUOUS, name=\"x5\")"
   ]
  },
  {
   "cell_type": "code",
   "execution_count": 4,
   "id": "c2ce9a3c",
   "metadata": {},
   "outputs": [],
   "source": [
    "# Definir la función objetivo\n",
    "m.setObjective(180*x1 + 220*x2 + 190*x3 + 210*x4 + 150*x5, GRB.MAXIMIZE)"
   ]
  },
  {
   "cell_type": "code",
   "execution_count": 5,
   "id": "acd20846",
   "metadata": {},
   "outputs": [
    {
     "data": {
      "text/plain": [
       "<gurobi.Constr *Awaiting Model Update*>"
      ]
     },
     "execution_count": 5,
     "metadata": {},
     "output_type": "execute_result"
    }
   ],
   "source": [
    "# Agregar restricciones\n",
    "m.addConstr(3*x1 + 3*x2 + 2*x3 + 2*x4 + 1*x5 <= 240, \"horas de ensamblaje\")\n",
    "m.addConstr(x1 + x2 + x3 + x4 + 1.5*x5 <= 100, \"horas de pintura\")\n",
    "m.addConstr(120*x1 + 120*x2 + 100*x3 + 100*x4 + 80*x5 <= 10000, \"costo de producción\")\n",
    "m.addConstr(2*x3 + 2*x4 <= 150, \"llantas delgadas\")\n",
    "m.addConstr(2*x1 + 2*x2 <= 80, \"llantas de alto agarre\")\n",
    "m.addConstr(2*x1 + 2*x2 + 2*x3 + 2*x4 + 2*x5 <= 300, \"llantas totales\")\n",
    "m.addConstr(x1 + x3 <= 120, \"marcos de acero\")\n",
    "m.addConstr(x2 + x4 <= 60, \"marcos de aluminio\")\n",
    "m.addConstr(x1 + x2 + x3 + x4 + x5 <= 180, \"marcos totales\")"
   ]
  },
  {
   "cell_type": "code",
   "execution_count": 6,
   "id": "da06ef9a",
   "metadata": {},
   "outputs": [
    {
     "name": "stdout",
     "output_type": "stream",
     "text": [
      "Gurobi Optimizer version 11.0.3 build v11.0.3rc0 (win64 - Windows 10.0 (19045.2))\n",
      "\n",
      "CPU model: AMD A8-7410 APU with AMD Radeon R5 Graphics, instruction set [SSE2|AVX]\n",
      "Thread count: 4 physical cores, 4 logical processors, using up to 4 threads\n",
      "\n",
      "Optimize a model with 9 rows, 5 columns and 33 nonzeros\n",
      "Model fingerprint: 0x05761299\n",
      "Coefficient statistics:\n",
      "  Matrix range     [1e+00, 1e+02]\n",
      "  Objective range  [2e+02, 2e+02]\n",
      "  Bounds range     [0e+00, 0e+00]\n",
      "  RHS range        [6e+01, 1e+04]\n",
      "Presolve removed 2 rows and 0 columns\n",
      "Presolve time: 0.17s\n",
      "Presolved: 7 rows, 5 columns, 26 nonzeros\n",
      "\n",
      "Iteration    Objective       Primal Inf.    Dual Inf.      Time\n",
      "       0    3.6000000e+04   1.860563e+03   0.000000e+00      0s\n",
      "       5    1.9700000e+04   0.000000e+00   0.000000e+00      0s\n",
      "\n",
      "Solved in 5 iterations and 0.24 seconds (0.00 work units)\n",
      "Optimal objective  1.970000000e+04\n"
     ]
    }
   ],
   "source": [
    "# Optimizar el modelo\n",
    "m.optimize()"
   ]
  },
  {
   "cell_type": "code",
   "execution_count": 12,
   "id": "04316766",
   "metadata": {},
   "outputs": [
    {
     "name": "stdout",
     "output_type": "stream",
     "text": [
      "Resultados: \n",
      "x1: 0.0\n",
      "x2: 17.5\n",
      "x3: 32.5\n",
      "x4: 42.5\n",
      "x5: 4.999999999999997\n"
     ]
    }
   ],
   "source": [
    "# Mostrar resultados\n",
    "print(\"Resultados: \")\n",
    "for v in m.getVars():\n",
    "    print(f\"{v.varName}: {v.x}\")"
   ]
  },
  {
   "cell_type": "code",
   "execution_count": 13,
   "id": "8f33af91",
   "metadata": {},
   "outputs": [
    {
     "name": "stdout",
     "output_type": "stream",
     "text": [
      "Valores dual\n"
     ]
    },
    {
     "ename": "AttributeError",
     "evalue": "'gurobipy.Model' object has no attribute 'constrs'",
     "output_type": "error",
     "traceback": [
      "\u001b[1;31m---------------------------------------------------------------------------\u001b[0m",
      "\u001b[1;31mAttributeError\u001b[0m                            Traceback (most recent call last)",
      "\u001b[1;32mC:\\Users\\SEBAST~1\\AppData\\Local\\Temp/ipykernel_11420/1058520106.py\u001b[0m in \u001b[0;36m<module>\u001b[1;34m\u001b[0m\n\u001b[0;32m      1\u001b[0m \u001b[1;31m# Mostrar valores dual\u001b[0m\u001b[1;33m\u001b[0m\u001b[1;33m\u001b[0m\u001b[1;33m\u001b[0m\u001b[0m\n\u001b[0;32m      2\u001b[0m \u001b[0mprint\u001b[0m\u001b[1;33m(\u001b[0m\u001b[1;34m\"Valores dual\"\u001b[0m\u001b[1;33m)\u001b[0m\u001b[1;33m\u001b[0m\u001b[1;33m\u001b[0m\u001b[0m\n\u001b[1;32m----> 3\u001b[1;33m \u001b[1;32mfor\u001b[0m \u001b[0mconstr\u001b[0m \u001b[1;32min\u001b[0m \u001b[0mm\u001b[0m\u001b[1;33m.\u001b[0m\u001b[0mconstrs\u001b[0m\u001b[1;33m(\u001b[0m\u001b[1;33m)\u001b[0m\u001b[1;33m:\u001b[0m\u001b[1;33m\u001b[0m\u001b[1;33m\u001b[0m\u001b[0m\n\u001b[0m\u001b[0;32m      4\u001b[0m     \u001b[0mprint\u001b[0m\u001b[1;33m(\u001b[0m\u001b[1;34mf\"(constr.constrName): {constr.Pi}\"\u001b[0m\u001b[1;33m)\u001b[0m\u001b[1;33m\u001b[0m\u001b[1;33m\u001b[0m\u001b[0m\n",
      "\u001b[1;32msrc\\\\gurobipy\\\\model.pxi\u001b[0m in \u001b[0;36mgurobipy.Model.__getattr__\u001b[1;34m()\u001b[0m\n",
      "\u001b[1;32msrc\\\\gurobipy\\\\model.pxi\u001b[0m in \u001b[0;36mgurobipy.Model.getAttr\u001b[1;34m()\u001b[0m\n",
      "\u001b[1;32msrc\\\\gurobipy\\\\attrutil.pxi\u001b[0m in \u001b[0;36mgurobipy._getattrinfo\u001b[1;34m()\u001b[0m\n",
      "\u001b[1;31mAttributeError\u001b[0m: 'gurobipy.Model' object has no attribute 'constrs'"
     ]
    }
   ],
   "source": [
    "# Mostrar valores dual\n",
    "print(\"Valores dual\")\n",
    "for constr in m.constrs():\n",
    "    print(f\"(constr.constrName): {constr.Pi}\")"
   ]
  },
  {
   "cell_type": "code",
   "execution_count": 7,
   "id": "7c648526",
   "metadata": {},
   "outputs": [
    {
     "name": "stdout",
     "output_type": "stream",
     "text": [
      "\n",
      "    Variable     SAObjLow \n",
      "-------------------------\n",
      "          x1         -inf \n",
      "          x2          200 \n",
      "          x3          170 \n",
      "          x4          190 \n",
      "          x5      133.333 \n",
      "\n",
      "    Variable      SAObjUp \n",
      "-------------------------\n",
      "          x1          200 \n",
      "          x2          245 \n",
      "          x3          210 \n",
      "          x4          230 \n",
      "          x5          250 \n",
      "\n",
      "  Constraint      SARHSUp \n",
      "-------------------------\n",
      "horas de ensamblaje          inf \n",
      "horas de pintura      121.875 \n",
      "costo de producción        10500 \n",
      "llantas delgadas          200 \n",
      "llantas de alto agarre          inf \n",
      "llantas totales          inf \n",
      "marcos de acero          inf \n",
      "marcos de aluminio         92.5 \n",
      "marcos totales          inf \n",
      "\n",
      "  Constraint     SARHSLow \n",
      "-------------------------\n",
      "horas de ensamblaje        207.5 \n",
      "horas de pintura      95.8333 \n",
      "costo de producción      8833.33 \n",
      "llantas delgadas      85.7143 \n",
      "llantas de alto agarre           35 \n",
      "llantas totales          195 \n",
      "marcos de acero         32.5 \n",
      "marcos de aluminio         17.5 \n",
      "marcos totales         97.5 \n"
     ]
    }
   ],
   "source": [
    "# Imprimir rangos de sensibilidad\n",
    "m.printAttr('SAObjLow')  # Rango inferior coeficiente objetivo\n",
    "m.printAttr('SAObjUp')   # Rango superior coeficiente objetivo\n",
    "m.printAttr('SARHSUp')   # Rango superior lado derecho restricción\n",
    "m.printAttr('SARHSLow')  # Rango inferior lado derecho restricción"
   ]
  },
  {
   "cell_type": "code",
   "execution_count": null,
   "id": "ea5f6c09",
   "metadata": {},
   "outputs": [],
   "source": [
    "# Agregar una variable al modelo\n",
    "x6 = m.addVar(name=\"x4\", lb=0)\n",
    "model.setObjective(180*x1 + 220*x2 + 190*x3 + 210*x4 + 150*x5 + 170*x6, GRB.MAXIMIZE)\n",
    "model.optimaze()"
   ]
  },
  {
   "cell_type": "code",
   "execution_count": null,
   "id": "e6565b8f",
   "metadata": {},
   "outputs": [],
   "source": []
  }
 ],
 "metadata": {
  "kernelspec": {
   "display_name": "Python 3 (ipykernel)",
   "language": "python",
   "name": "python3"
  },
  "language_info": {
   "codemirror_mode": {
    "name": "ipython",
    "version": 3
   },
   "file_extension": ".py",
   "mimetype": "text/x-python",
   "name": "python",
   "nbconvert_exporter": "python",
   "pygments_lexer": "ipython3",
   "version": "3.9.6"
  }
 },
 "nbformat": 4,
 "nbformat_minor": 5
}
