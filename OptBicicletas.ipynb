{
 "cells": [
  {
   "cell_type": "code",
   "execution_count": 1,
   "id": "19c998c2",
   "metadata": {},
   "outputs": [],
   "source": [
    "import gurobipy as gp\n",
    "from gurobipy import GRB"
   ]
  },
  {
   "cell_type": "code",
   "execution_count": 2,
   "id": "697171a9",
   "metadata": {},
   "outputs": [
    {
     "name": "stdout",
     "output_type": "stream",
     "text": [
      "Set parameter Username\n",
      "Academic license - for non-commercial use only - expires 2025-10-09\n"
     ]
    }
   ],
   "source": [
    "# Crear un nuevo modelo\n",
    "m = gp.Model(\"bicicletas\")"
   ]
  },
  {
   "cell_type": "code",
   "execution_count": 3,
   "id": "79e6c78d",
   "metadata": {},
   "outputs": [],
   "source": [
    "# Crear variables\n",
    "x1 = m.addVar(name=\"x1\", lb=0)\n",
    "x2 = m.addVar(name=\"x2\", lb=0)\n",
    "x3 = m.addVar(name=\"x3\", lb=0)\n",
    "x4 = m.addVar(name=\"x4\", lb=0)\n",
    "x5 = m.addVar(name=\"x5\", lb=0)"
   ]
  },
  {
   "cell_type": "code",
   "execution_count": 4,
   "id": "c2ce9a3c",
   "metadata": {},
   "outputs": [],
   "source": [
    "# Definir la función objetivo\n",
    "m.setObjective(180*x1 + 220*x2 + 190*x3 + 210*x4 + 150*x5, GRB.MAXIMIZE)"
   ]
  },
  {
   "cell_type": "code",
   "execution_count": 5,
   "id": "acd20846",
   "metadata": {},
   "outputs": [
    {
     "data": {
      "text/plain": [
       "<gurobi.Constr *Awaiting Model Update*>"
      ]
     },
     "execution_count": 5,
     "metadata": {},
     "output_type": "execute_result"
    }
   ],
   "source": [
    "# Agregar restricciones\n",
    "m.addConstr(3*x1 + 3*x2 + 2*x3 + 2*x4 + 1*x5 <= 240, \"horas de ensamblaje\")\n",
    "m.addConstr(x1 + x2 + x3 + x4 + 1.5*x5 <= 100, \"horas de pintura\")\n",
    "m.addConstr(120*x1 + 120*x2 + 100*x3 + 100*x4 + 80*x5 <= 10000, \"costo de producción\")\n",
    "m.addConstr(2*x3 + 2*x4 <= 150, \"llantas delgadas\")\n",
    "m.addConstr(2*x1 + 2*x2 <= 80, \"llantas de alto agarre\")\n",
    "m.addConstr(2*x1 + 2*x2 + 2*x3 + 2*x4 + 2*x5 <= 300, \"llantas totales\")\n",
    "m.addConstr(x1 + x3 <= 120, \"marcos de acero\")\n",
    "m.addConstr(x2 + x4 <= 60, \"marcos de aluminio\")\n",
    "m.addConstr(x1 + x2 + x3 + x4 + x5 <= 180, \"marcos totales\")"
   ]
  },
  {
   "cell_type": "code",
   "execution_count": 6,
   "id": "da06ef9a",
   "metadata": {},
   "outputs": [
    {
     "name": "stdout",
     "output_type": "stream",
     "text": [
      "Gurobi Optimizer version 11.0.3 build v11.0.3rc0 (win64 - Windows 11.0 (22631.2))\n",
      "\n",
      "CPU model: AMD Ryzen 7 3700U with Radeon Vega Mobile Gfx, instruction set [SSE2|AVX|AVX2]\n",
      "Thread count: 4 physical cores, 8 logical processors, using up to 8 threads\n",
      "\n",
      "Optimize a model with 9 rows, 5 columns and 33 nonzeros\n",
      "Model fingerprint: 0x05761299\n",
      "Coefficient statistics:\n",
      "  Matrix range     [1e+00, 1e+02]\n",
      "  Objective range  [2e+02, 2e+02]\n",
      "  Bounds range     [0e+00, 0e+00]\n",
      "  RHS range        [6e+01, 1e+04]\n",
      "Presolve removed 2 rows and 0 columns\n",
      "Presolve time: 0.03s\n",
      "Presolved: 7 rows, 5 columns, 26 nonzeros\n",
      "\n",
      "Iteration    Objective       Primal Inf.    Dual Inf.      Time\n",
      "       0    3.6000000e+04   1.860563e+03   0.000000e+00      0s\n",
      "       5    1.9700000e+04   0.000000e+00   0.000000e+00      0s\n",
      "\n",
      "Solved in 5 iterations and 0.05 seconds (0.00 work units)\n",
      "Optimal objective  1.970000000e+04\n"
     ]
    }
   ],
   "source": [
    "# Optimizar el modelo\n",
    "m.optimize()"
   ]
  },
  {
   "cell_type": "code",
   "execution_count": 8,
   "id": "04316766",
   "metadata": {},
   "outputs": [
    {
     "name": "stdout",
     "output_type": "stream",
     "text": [
      "Resultados: \n",
<<<<<<< HEAD
=======
      "Función objetivo: 19700.0\n",
>>>>>>> cd7eb270e5c2954666f1c2baa9949728f49564a5
      "x1: 0.0\n",
      "x2: 17.5\n",
      "x3: 32.5\n",
      "x4: 42.5\n",
      "x5: 4.999999999999997\n"
     ]
    }
   ],
   "source": [
    "# Mostrar resultados\n",
    "print(\"Resultados: \")\n",
    "print(f\"Función objetivo: {m.objVal}\")\n",
    "for v in m.getVars():\n",
    "    print(f\"{v.varName}: {v.x}\")"
   ]
  },
  {
   "cell_type": "code",
   "execution_count": 8,
   "id": "7c648526",
   "metadata": {},
   "outputs": [
    {
     "name": "stdout",
     "output_type": "stream",
     "text": [
      "\n",
      "    Variable     SAObjLow \n",
      "-------------------------\n",
      "          x1         -inf \n",
      "          x2          200 \n",
      "          x3          170 \n",
      "          x4          190 \n",
      "          x5      133.333 \n",
      "\n",
      "    Variable      SAObjUp \n",
      "-------------------------\n",
      "          x1          200 \n",
      "          x2          245 \n",
      "          x3          210 \n",
      "          x4          230 \n",
      "          x5          250 \n",
      "\n",
      "  Constraint     SARHSLow \n",
      "-------------------------\n",
      "horas de ensamblaje        207.5 \n",
      "horas de pintura      95.8333 \n",
      "costo de producción      8833.33 \n",
      "llantas delgadas      85.7143 \n",
      "llantas de alto agarre           35 \n",
      "llantas totales          195 \n",
      "marcos de acero         32.5 \n",
      "marcos de aluminio         17.5 \n",
      "marcos totales         97.5 \n",
      "\n",
      "  Constraint      SARHSUp \n",
      "-------------------------\n",
      "horas de ensamblaje          inf \n",
      "horas de pintura      121.875 \n",
      "costo de producción        10500 \n",
      "llantas delgadas          200 \n",
      "llantas de alto agarre          inf \n",
      "llantas totales          inf \n",
      "marcos de acero          inf \n",
      "marcos de aluminio         92.5 \n",
      "marcos totales          inf \n"
     ]
    }
   ],
   "source": [
    "# Imprimir rangos de sensibilidad\n",
    "m.printAttr('SAObjLow')  # Rango inferior coeficiente objetivo\n",
    "m.printAttr('SAObjUp')   # Rango superior coeficiente objetivo\n",
    "m.printAttr('SARHSLow')  # Rango inferior lado derecho restricción\n",
    "m.printAttr('SARHSUp')   # Rango superior lado derecho restricción"
   ]
  },
  {
   "cell_type": "code",
   "execution_count": 9,
   "id": "ea5f6c09",
   "metadata": {},
   "outputs": [],
   "source": [
    "# Agregar una variable al modelo\n",
    "x6 = m.addVar(name=\"x6\", lb=0)"
   ]
  },
  {
   "cell_type": "code",
   "execution_count": 10,
   "id": "ee881434",
   "metadata": {},
   "outputs": [],
   "source": [
    "# modificar la función objetivo\n",
    "m.setObjective(180*x1 + 220*x2 + 190*x3 + 210*x4 + 150*x5 + 250*x6, GRB.MAXIMIZE)"
   ]
  },
  {
   "cell_type": "code",
   "execution_count": 11,
   "id": "e6565b8f",
   "metadata": {},
   "outputs": [
    {
     "data": {
      "text/plain": [
       "<gurobi.Constr *Awaiting Model Update*>"
      ]
     },
     "execution_count": 11,
     "metadata": {},
     "output_type": "execute_result"
    }
   ],
   "source": [
    "# modificar restricciones para incluir x6\n",
    "m.addConstr(3*x1 + 3*x2 + 2*x3 + 2*x4 + 1*x5 + 4*x6 <= 240, \"horas de ensamblaje\")\n",
    "m.addConstr(x1 + x2 + x3 + x4 + 1.5*x5 + 0.5*x6 <= 100, \"horas de pintura\")\n",
    "m.addConstr(120*x1 + 120*x2 + 100*x3 + 100*x4 + 80*x5 + 150*x6 <= 10000, \"costo de producción\")\n",
    "m.addConstr(2*x1 + 2*x2 + 2*x3 + 2*x4 + 2*x5 + 2*x6 <= 300, \"llantas totales\")\n",
    "m.addConstr(x1 + x2 + x3 + x4 + x5 + x6 <= 180, \"marcos totales\")"
   ]
  },
  {
   "cell_type": "code",
   "execution_count": 12,
   "id": "f80e6af8",
   "metadata": {},
   "outputs": [
    {
     "name": "stdout",
     "output_type": "stream",
     "text": [
      "Gurobi Optimizer version 11.0.3 build v11.0.3rc0 (win64 - Windows 11.0 (22631.2))\n",
      "\n",
      "CPU model: AMD Ryzen 7 3700U with Radeon Vega Mobile Gfx, instruction set [SSE2|AVX|AVX2]\n",
      "Thread count: 4 physical cores, 8 logical processors, using up to 8 threads\n",
      "\n",
      "Optimize a model with 14 rows, 6 columns and 63 nonzeros\n",
      "Coefficient statistics:\n",
      "  Matrix range     [5e-01, 2e+02]\n",
      "  Objective range  [2e+02, 3e+02]\n",
      "  Bounds range     [0e+00, 0e+00]\n",
      "  RHS range        [6e+01, 1e+04]\n",
      "LP warm-start: use basis\n",
      "\n",
      "Iteration    Objective       Primal Inf.    Dual Inf.      Time\n",
      "       0    1.5625000e+31   3.835937e+30   1.562500e+01      0s\n",
      "       5    1.9841892e+04   0.000000e+00   0.000000e+00      0s\n",
      "\n",
      "Solved in 5 iterations and 0.03 seconds (0.00 work units)\n",
      "Optimal objective  1.984189189e+04\n"
     ]
    }
   ],
   "source": [
    "m.optimize()"
   ]
  },
  {
   "cell_type": "code",
   "execution_count": 13,
   "id": "e7475d60",
   "metadata": {},
   "outputs": [
    {
     "name": "stdout",
     "output_type": "stream",
     "text": [
      "Resultados: \n",
      "Función objetivo: 19841.89189189189\n",
      "x1: 0.0\n",
      "x2: 0.0\n",
      "x3: 15.0\n",
      "x4: 60.0\n",
      "x5: 13.513513513513514\n",
      "x6: 9.459459459459458\n"
     ]
    }
   ],
   "source": [
    "# Mostrar resultados\n",
    "print(\"Resultados: \")\n",
    "print(f\"Función objetivo: {m.objVal}\")\n",
    "for v in m.getVars():\n",
    "    print(f\"{v.varName}: {v.x}\")"
   ]
  },
  {
   "cell_type": "code",
   "execution_count": 14,
   "id": "fd92c9b2",
   "metadata": {},
   "outputs": [
    {
     "data": {
      "text/plain": [
       "<gurobi.Constr *Awaiting Model Update*>"
      ]
     },
     "execution_count": 14,
     "metadata": {},
     "output_type": "execute_result"
    }
   ],
   "source": [
    "#agregar una restricción al modelo\n",
    "m.addConstr(x6 <= 0.5*x5, \"restricción adicional\")"
   ]
  },
  {
   "cell_type": "code",
   "execution_count": 15,
   "id": "a584781c",
   "metadata": {},
   "outputs": [
    {
     "name": "stdout",
     "output_type": "stream",
     "text": [
      "Gurobi Optimizer version 11.0.3 build v11.0.3rc0 (win64 - Windows 11.0 (22631.2))\n",
      "\n",
      "CPU model: AMD Ryzen 7 3700U with Radeon Vega Mobile Gfx, instruction set [SSE2|AVX|AVX2]\n",
      "Thread count: 4 physical cores, 8 logical processors, using up to 8 threads\n",
      "\n",
      "Optimize a model with 15 rows, 6 columns and 65 nonzeros\n",
      "Coefficient statistics:\n",
      "  Matrix range     [5e-01, 2e+02]\n",
      "  Objective range  [2e+02, 3e+02]\n",
      "  Bounds range     [0e+00, 0e+00]\n",
      "  RHS range        [6e+01, 1e+04]\n",
      "LP warm-start: use basis\n",
      "\n",
      "Iteration    Objective       Primal Inf.    Dual Inf.      Time\n",
      "       0    1.9841892e+04   4.324324e+01   0.000000e+00      0s\n",
      "       1    1.9768182e+04   0.000000e+00   0.000000e+00      0s\n",
      "\n",
      "Solved in 1 iterations and 0.03 seconds (0.00 work units)\n",
      "Optimal objective  1.976818182e+04\n"
     ]
    }
   ],
   "source": [
    "#optimizar el modelo\n",
    "m.optimize()"
   ]
  },
  {
   "cell_type": "code",
   "execution_count": 16,
   "id": "90cd8150",
   "metadata": {},
   "outputs": [
    {
     "name": "stdout",
     "output_type": "stream",
     "text": [
      "Resultados: \n",
      "Función objetivo: 19768.181818181816\n",
      "x1: 0.0\n",
      "x2: 9.090909090909093\n",
      "x3: 24.09090909090909\n",
      "x4: 50.90909090909091\n",
      "x5: 9.090909090909092\n",
      "x6: 4.545454545454546\n"
     ]
    }
   ],
   "source": [
    "# Mostrar resultados\n",
    "print(\"Resultados: \")\n",
    "print(f\"Función objetivo: {m.objVal}\")\n",
    "for v in m.getVars():\n",
    "    print(f\"{v.varName}: {v.x}\")"
   ]
  }
 ],
 "metadata": {
  "kernelspec": {
   "display_name": "Python 3 (ipykernel)",
   "language": "python",
   "name": "python3"
  },
  "language_info": {
   "codemirror_mode": {
    "name": "ipython",
    "version": 3
   },
   "file_extension": ".py",
   "mimetype": "text/x-python",
   "name": "python",
   "nbconvert_exporter": "python",
   "pygments_lexer": "ipython3",
   "version": "3.9.6"
  }
 },
 "nbformat": 4,
 "nbformat_minor": 5
}
